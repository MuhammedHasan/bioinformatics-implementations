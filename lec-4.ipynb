{
 "cells": [
  {
   "cell_type": "markdown",
   "metadata": {
    "nbpresent": {
     "id": "b6c6c55d-ee63-4ae3-9d21-acedfd306321"
    }
   },
   "source": [
    "# Lecture 4 - DNA Mapping"
   ]
  },
  {
   "cell_type": "code",
   "execution_count": 1,
   "metadata": {
    "collapsed": true,
    "nbpresent": {
     "id": "704ded73-becc-44e4-bdbd-2cbe115b870d"
    }
   },
   "outputs": [],
   "source": [
    "import itertools\n",
    "\n",
    "def form_dx_from_x(x):\n",
    "    pairs =  filter(lambda t: t[1] > t[0] , itertools.product(*[x, x]))\n",
    "    return sorted([t2 - t1 for t1, t2 in pairs])"
   ]
  },
  {
   "cell_type": "markdown",
   "metadata": {
    "nbpresent": {
     "id": "126eb3fb-a8e5-41f6-8143-d72e712e60cc"
    }
   },
   "source": [
    "Multiple Solutions can exist"
   ]
  },
  {
   "cell_type": "code",
   "execution_count": 2,
   "metadata": {
    "collapsed": false,
    "nbpresent": {
     "id": "ec4f244b-103a-4b8b-a357-8c1e2a6b5d6d"
    }
   },
   "outputs": [
    {
     "data": {
      "text/plain": [
       "[1, 1, 2, 2, 2, 3, 3, 4, 4, 5, 5, 5, 6, 7, 7, 7, 8, 9, 10, 11, 12]"
      ]
     },
     "execution_count": 2,
     "metadata": {},
     "output_type": "execute_result"
    }
   ],
   "source": [
    "list(form_dx_from_x([0,1,2,5,7,9,12]))"
   ]
  },
  {
   "cell_type": "code",
   "execution_count": 3,
   "metadata": {
    "collapsed": false,
    "nbpresent": {
     "id": "508082ba-0edd-4c26-87c7-1401d896aabb"
    }
   },
   "outputs": [
    {
     "data": {
      "text/plain": [
       "[1, 1, 2, 2, 2, 3, 3, 4, 4, 5, 5, 5, 6, 7, 7, 7, 8, 9, 10, 11, 12]"
      ]
     },
     "execution_count": 3,
     "metadata": {},
     "output_type": "execute_result"
    }
   ],
   "source": [
    "list(form_dx_from_x([0,1,5,7,8,10,12]))"
   ]
  },
  {
   "cell_type": "markdown",
   "metadata": {
    "nbpresent": {
     "id": "ae610475-1552-41ea-9211-8aa99ddf3870"
    }
   },
   "source": [
    "### BruteForcePDP"
   ]
  },
  {
   "cell_type": "code",
   "execution_count": 4,
   "metadata": {
    "collapsed": true,
    "nbpresent": {
     "id": "672c839c-f82b-45ac-9d66-4d9369bae90d"
    }
   },
   "outputs": [],
   "source": [
    "def brute_force_PDP(L, n):\n",
    "    M = max(L)\n",
    "    for X in itertools.combinations(range(1,M), n - 2):\n",
    "        X = (0,) + X + (M,)\n",
    "        dx = form_dx_from_x(X)\n",
    "        if dx == L:\n",
    "            yield X"
   ]
  },
  {
   "cell_type": "code",
   "execution_count": 5,
   "metadata": {
    "collapsed": false,
    "nbpresent": {
     "id": "2d8292b1-7c0c-4475-a5d2-c4dad6e40bb0"
    }
   },
   "outputs": [
    {
     "data": {
      "text/plain": [
       "[(0, 1, 2, 5, 7, 9, 12),\n",
       " (0, 1, 5, 7, 8, 10, 12),\n",
       " (0, 2, 4, 5, 7, 11, 12),\n",
       " (0, 3, 5, 7, 10, 11, 12)]"
      ]
     },
     "execution_count": 5,
     "metadata": {},
     "output_type": "execute_result"
    }
   ],
   "source": [
    "X = [0, 1, 2, 5, 7, 9, 12]\n",
    "list(brute_force_PDP(form_dx_from_x(X), len(X)))"
   ]
  },
  {
   "cell_type": "markdown",
   "metadata": {
    "nbpresent": {
     "id": "7abd93ca-c72a-4f2b-847d-690f45cc08fd"
    }
   },
   "source": [
    "Complexity : $O(M^{n-2})$"
   ]
  },
  {
   "cell_type": "markdown",
   "metadata": {
    "nbpresent": {
     "id": "21e56225-e1d2-4114-8c1d-ba2a0c34d384"
    }
   },
   "source": [
    "### AnotherBruteForcePDP"
   ]
  },
  {
   "cell_type": "code",
   "execution_count": 6,
   "metadata": {
    "collapsed": true,
    "nbpresent": {
     "id": "d48853a6-d852-4048-982b-2f1f3824e539"
    }
   },
   "outputs": [],
   "source": [
    "def brute_force_PDP(L, n):\n",
    "    M = max(L)\n",
    "    for X in set(itertools.combinations(filter(lambda k: k < M, L), n - 2)):\n",
    "        X = (0,) + X + (M,)\n",
    "        dx = form_dx_from_x(X)\n",
    "        if dx == L:\n",
    "            yield X"
   ]
  },
  {
   "cell_type": "code",
   "execution_count": 7,
   "metadata": {
    "collapsed": false,
    "nbpresent": {
     "id": "0d2b3b2e-2db7-479a-a173-4cb3e6ac3004"
    }
   },
   "outputs": [
    {
     "data": {
      "text/plain": [
       "[(0, 1, 2, 5, 7, 9, 12),\n",
       " (0, 2, 4, 5, 7, 11, 12),\n",
       " (0, 3, 5, 7, 10, 11, 12),\n",
       " (0, 1, 5, 7, 8, 10, 12)]"
      ]
     },
     "execution_count": 7,
     "metadata": {},
     "output_type": "execute_result"
    }
   ],
   "source": [
    "X = [0, 1, 2, 5, 7, 9, 12]\n",
    "list(brute_force_PDP(form_dx_from_x(X), len(X)))"
   ]
  },
  {
   "cell_type": "markdown",
   "metadata": {
    "nbpresent": {
     "id": "c5c3d5fc-fc65-4b9a-b3eb-37eefb5bd40f"
    }
   },
   "source": [
    "Complexity : $O(n^{2n-4})$"
   ]
  },
  {
   "cell_type": "markdown",
   "metadata": {
    "nbpresent": {
     "id": "e83a1af9-c525-4f7b-9163-098d507d36af"
    }
   },
   "source": [
    "### Branch and Bound Algorithm for PDP"
   ]
  },
  {
   "cell_type": "code",
   "execution_count": 8,
   "metadata": {
    "collapsed": true,
    "nbpresent": {
     "id": "15e5ef0e-b8e3-4544-af94-211dacd166b1"
    }
   },
   "outputs": [],
   "source": [
    "def D(y,X):\n",
    "    return [abs(y - i) for i in X]"
   ]
  },
  {
   "cell_type": "code",
   "execution_count": 9,
   "metadata": {
    "collapsed": false,
    "nbpresent": {
     "id": "db3bafd2-2e66-4535-a533-559bcabfe37f"
    }
   },
   "outputs": [],
   "source": [
    "def partial_digest(L):\n",
    "    global width\n",
    "    global solutions\n",
    "    solutions = []\n",
    "    width = max(L)\n",
    "    L.remove(width)\n",
    "    X = [0, width]\n",
    "    place(L, X)\n",
    "    return solutions"
   ]
  },
  {
   "cell_type": "code",
   "execution_count": 10,
   "metadata": {
    "collapsed": false,
    "nbpresent": {
     "id": "b89c6206-fc79-4715-90a3-1826672c62f5"
    }
   },
   "outputs": [],
   "source": [
    "def place(L, X):\n",
    "    if not L: \n",
    "        solutions.append(tuple(sorted(X)))\n",
    "        return\n",
    "    y = max(L)\n",
    "    check_solution(y, X, L)\n",
    "    check_solution(abs(width - y), X, L)"
   ]
  },
  {
   "cell_type": "code",
   "execution_count": 11,
   "metadata": {
    "collapsed": false,
    "nbpresent": {
     "id": "573c5524-a38f-4eff-95dc-8ef34a17ede0"
    }
   },
   "outputs": [],
   "source": [
    "def check_solution(y, X, L):\n",
    "    dis_y = D(y, X)\n",
    "    if set(L) >= set(dis_y):\n",
    "        new_X = X + [y]\n",
    "        new_L = L[:]\n",
    "        for i in dis_y: new_L.remove(i)\n",
    "        place(new_L, new_X)"
   ]
  },
  {
   "cell_type": "code",
   "execution_count": 12,
   "metadata": {
    "collapsed": false,
    "nbpresent": {
     "id": "07c4bd79-8f97-4aee-9373-1e641d8d82f0"
    },
    "scrolled": true
   },
   "outputs": [
    {
     "data": {
      "text/plain": [
       "[(0, 3, 6, 8, 10), (0, 2, 4, 7, 10)]"
      ]
     },
     "execution_count": 12,
     "metadata": {},
     "output_type": "execute_result"
    }
   ],
   "source": [
    "partial_digest([2, 2, 3, 3, 4, 5, 6, 7, 8, 10])"
   ]
  },
  {
   "cell_type": "code",
   "execution_count": 13,
   "metadata": {
    "collapsed": false,
    "scrolled": true
   },
   "outputs": [
    {
     "data": {
      "text/plain": [
       "{(0, 1, 2, 5, 7, 9, 12),\n",
       " (0, 1, 5, 7, 8, 10, 12),\n",
       " (0, 2, 4, 5, 7, 11, 12),\n",
       " (0, 3, 5, 7, 10, 11, 12)}"
      ]
     },
     "execution_count": 13,
     "metadata": {},
     "output_type": "execute_result"
    }
   ],
   "source": [
    "X = [0, 1, 2, 5, 7, 9, 12]\n",
    "set(partial_digest(form_dx_from_x(X)))"
   ]
  },
  {
   "cell_type": "markdown",
   "metadata": {},
   "source": [
    "No branching case: Quadratic\n",
    "    \n",
    "Branching case: Exponential"
   ]
  }
 ],
 "metadata": {
  "anaconda-cloud": {},
  "kernelspec": {
   "display_name": "Python 2",
   "language": "python",
   "name": "python2"
  },
  "language_info": {
   "codemirror_mode": {
    "name": "ipython",
    "version": 2
   },
   "file_extension": ".py",
   "mimetype": "text/x-python",
   "name": "python",
   "nbconvert_exporter": "python",
   "pygments_lexer": "ipython2",
   "version": "2.7.12"
  },
  "nbpresent": {
   "slides": {
    "1288aac6-3573-4659-a79d-a9f0353eb09e": {
     "id": "1288aac6-3573-4659-a79d-a9f0353eb09e",
     "prev": "6d8bd1eb-cfff-4d49-a975-5ca9ce8f35cb",
     "regions": {
      "ca3a0a8a-49a8-4380-9dfa-175dfe728de0": {
       "attrs": {
        "height": 0.8,
        "width": 0.8,
        "x": 0.1,
        "y": 0.1
       },
       "content": {
        "cell": "eda6eeaf-d365-4541-a97e-6251596aea3d",
        "part": "whole"
       },
       "id": "ca3a0a8a-49a8-4380-9dfa-175dfe728de0"
      }
     }
    },
    "1e734fe3-7c01-47e2-8b65-6c621b1b6162": {
     "id": "1e734fe3-7c01-47e2-8b65-6c621b1b6162",
     "prev": "4f640045-1e12-47c2-9cae-aa3b801dd3c8",
     "regions": {
      "85f55557-704d-435d-87f7-d3cca22c082c": {
       "attrs": {
        "height": 0.8,
        "width": 0.8,
        "x": 0.1,
        "y": 0.1
       },
       "content": {
        "cell": "b89c6206-fc79-4715-90a3-1826672c62f5",
        "part": "whole"
       },
       "id": "85f55557-704d-435d-87f7-d3cca22c082c"
      }
     }
    },
    "455d218c-7edd-44a6-a7d7-caaa408375e1": {
     "id": "455d218c-7edd-44a6-a7d7-caaa408375e1",
     "prev": "68df38cb-3447-4e4c-a53a-4da2e0f8656f",
     "regions": {
      "5900183c-06c9-482d-ba25-f238d72afc29": {
       "attrs": {
        "height": 0.8,
        "width": 0.8,
        "x": 0.1,
        "y": 0.1
       },
       "content": {
        "cell": "15e5ef0e-b8e3-4544-af94-211dacd166b1",
        "part": "whole"
       },
       "id": "5900183c-06c9-482d-ba25-f238d72afc29"
      }
     }
    },
    "4f640045-1e12-47c2-9cae-aa3b801dd3c8": {
     "id": "4f640045-1e12-47c2-9cae-aa3b801dd3c8",
     "prev": "9d4b9529-a5d8-4438-9600-d6828ae099e5",
     "regions": {
      "3f9af40d-c4d7-4547-9663-af9e2f1fd6bf": {
       "attrs": {
        "height": 0.8,
        "width": 0.8,
        "x": 0.1,
        "y": 0.1
       },
       "content": {
        "cell": "573c5524-a38f-4eff-95dc-8ef34a17ede0",
        "part": "whole"
       },
       "id": "3f9af40d-c4d7-4547-9663-af9e2f1fd6bf"
      }
     }
    },
    "4fd93c40-2f25-4123-bd3f-0945fd2d1187": {
     "id": "4fd93c40-2f25-4123-bd3f-0945fd2d1187",
     "prev": "1e734fe3-7c01-47e2-8b65-6c621b1b6162",
     "regions": {
      "ae1fb284-d3f8-4bfa-9b73-39784084d39e": {
       "attrs": {
        "height": 0.8,
        "width": 0.8,
        "x": 0.1,
        "y": 0.1
       },
       "content": {
        "cell": "db3bafd2-2e66-4535-a533-559bcabfe37f",
        "part": "whole"
       },
       "id": "ae1fb284-d3f8-4bfa-9b73-39784084d39e"
      }
     }
    },
    "68df38cb-3447-4e4c-a53a-4da2e0f8656f": {
     "id": "68df38cb-3447-4e4c-a53a-4da2e0f8656f",
     "prev": "716704dd-a2a5-4fb6-8476-3ce111fc6320",
     "regions": {
      "b26d53e2-c36a-4c13-b3ab-6f03d647bd91": {
       "attrs": {
        "height": 0.8,
        "width": 0.8,
        "x": 0.1,
        "y": 0.1
       },
       "content": {
        "cell": "e83a1af9-c525-4f7b-9163-098d507d36af",
        "part": "whole"
       },
       "id": "b26d53e2-c36a-4c13-b3ab-6f03d647bd91"
      }
     }
    },
    "6d8bd1eb-cfff-4d49-a975-5ca9ce8f35cb": {
     "id": "6d8bd1eb-cfff-4d49-a975-5ca9ce8f35cb",
     "prev": "4fd93c40-2f25-4123-bd3f-0945fd2d1187",
     "regions": {
      "246f115f-9fb3-4f5d-adc1-fc4fc39ed74a": {
       "attrs": {
        "height": 0.8,
        "width": 0.8,
        "x": 0.1,
        "y": 0.1
       },
       "content": {
        "cell": "07c4bd79-8f97-4aee-9373-1e641d8d82f0",
        "part": "whole"
       },
       "id": "246f115f-9fb3-4f5d-adc1-fc4fc39ed74a"
      }
     }
    },
    "6dfacaac-4c9e-495b-9c40-66088f070d76": {
     "id": "6dfacaac-4c9e-495b-9c40-66088f070d76",
     "prev": "9db823c9-1591-4f1c-9cdd-8832f6140ed3",
     "regions": {
      "dcfd1e34-4946-443b-a8e5-6d673bc78655": {
       "attrs": {
        "height": 0.8,
        "width": 0.8,
        "x": 0.1,
        "y": 0.1
       },
       "content": {
        "cell": "ec4f244b-103a-4b8b-a357-8c1e2a6b5d6d",
        "part": "whole"
       },
       "id": "dcfd1e34-4946-443b-a8e5-6d673bc78655"
      }
     }
    },
    "6f76ed74-98ed-4585-9aa5-2c61c6d00872": {
     "id": "6f76ed74-98ed-4585-9aa5-2c61c6d00872",
     "prev": "6dfacaac-4c9e-495b-9c40-66088f070d76",
     "regions": {
      "6feba2ce-4f80-4131-a105-e698cff93cdb": {
       "attrs": {
        "height": 0.8,
        "width": 0.8,
        "x": 0.1,
        "y": 0.1
       },
       "content": {
        "cell": "508082ba-0edd-4c26-87c7-1401d896aabb",
        "part": "whole"
       },
       "id": "6feba2ce-4f80-4131-a105-e698cff93cdb"
      }
     }
    },
    "716704dd-a2a5-4fb6-8476-3ce111fc6320": {
     "id": "716704dd-a2a5-4fb6-8476-3ce111fc6320",
     "prev": "ce7d8156-f128-4a0a-bce9-20832d408e1c",
     "regions": {
      "0a4c4675-91a1-44ce-a9a5-088878216e5d": {
       "attrs": {
        "height": 0.8,
        "width": 0.8,
        "x": 0.1,
        "y": 0.1
       },
       "content": {
        "cell": "c5c3d5fc-fc65-4b9a-b3eb-37eefb5bd40f",
        "part": "whole"
       },
       "id": "0a4c4675-91a1-44ce-a9a5-088878216e5d"
      }
     }
    },
    "7a830326-65c1-40ee-96f1-a56e4a0afcc2": {
     "id": "7a830326-65c1-40ee-96f1-a56e4a0afcc2",
     "prev": "fc3ab057-5713-443b-8c99-dab068cdd5b0",
     "regions": {
      "360b6553-f4e6-4bd4-8f4d-e0b3842e7c9f": {
       "attrs": {
        "height": 0.8,
        "width": 0.8,
        "x": 0.1,
        "y": 0.1
       },
       "content": {
        "cell": "7abd93ca-c72a-4f2b-847d-690f45cc08fd",
        "part": "whole"
       },
       "id": "360b6553-f4e6-4bd4-8f4d-e0b3842e7c9f"
      }
     }
    },
    "98a2f5f1-9d80-44bc-a203-1bea7124e96a": {
     "id": "98a2f5f1-9d80-44bc-a203-1bea7124e96a",
     "prev": "a09830f3-b85c-4cf7-91ed-968f97866b15",
     "regions": {
      "481432e2-337c-48f7-bb25-60cd4943b5b7": {
       "attrs": {
        "height": 0.8,
        "width": 0.8,
        "x": 0.1,
        "y": 0.1
       },
       "content": {
        "cell": "672c839c-f82b-45ac-9d66-4d9369bae90d",
        "part": "whole"
       },
       "id": "481432e2-337c-48f7-bb25-60cd4943b5b7"
      }
     }
    },
    "9d4b9529-a5d8-4438-9600-d6828ae099e5": {
     "id": "9d4b9529-a5d8-4438-9600-d6828ae099e5",
     "prev": "455d218c-7edd-44a6-a7d7-caaa408375e1",
     "regions": {
      "8019830c-9efe-4db0-9c9a-59f40918dcb8": {
       "attrs": {
        "height": 0.8,
        "width": 0.8,
        "x": 0.1,
        "y": 0.1
       },
       "content": {
        "cell": "f761aa20-04f7-4497-90b7-5b427e1ef37f",
        "part": "whole"
       },
       "id": "8019830c-9efe-4db0-9c9a-59f40918dcb8"
      }
     }
    },
    "9db823c9-1591-4f1c-9cdd-8832f6140ed3": {
     "id": "9db823c9-1591-4f1c-9cdd-8832f6140ed3",
     "prev": "f641c92a-1842-42ea-9717-892505b246be",
     "regions": {
      "74e117d5-b477-41ff-9663-70ca10ca0bb7": {
       "attrs": {
        "height": 0.8,
        "width": 0.8,
        "x": 0.1,
        "y": 0.1
       },
       "content": {
        "cell": "126eb3fb-a8e5-41f6-8143-d72e712e60cc",
        "part": "whole"
       },
       "id": "74e117d5-b477-41ff-9663-70ca10ca0bb7"
      }
     }
    },
    "a09830f3-b85c-4cf7-91ed-968f97866b15": {
     "id": "a09830f3-b85c-4cf7-91ed-968f97866b15",
     "prev": "6f76ed74-98ed-4585-9aa5-2c61c6d00872",
     "regions": {
      "46a89065-ae63-4780-8849-ef67f1930535": {
       "attrs": {
        "height": 0.8,
        "width": 0.8,
        "x": 0.1,
        "y": 0.1
       },
       "content": {
        "cell": "ae610475-1552-41ea-9211-8aa99ddf3870",
        "part": "whole"
       },
       "id": "46a89065-ae63-4780-8849-ef67f1930535"
      }
     }
    },
    "c9a37bf1-f322-4fb3-8301-e328df831535": {
     "id": "c9a37bf1-f322-4fb3-8301-e328df831535",
     "prev": "efe52eb5-9010-4e1a-844b-38cc52c05c42",
     "regions": {
      "8ceba26e-87fb-41c4-8d40-f9c593b8fd61": {
       "attrs": {
        "height": 0.8,
        "width": 0.8,
        "x": 0.1,
        "y": 0.1
       },
       "content": {
        "cell": "d48853a6-d852-4048-982b-2f1f3824e539",
        "part": "whole"
       },
       "id": "8ceba26e-87fb-41c4-8d40-f9c593b8fd61"
      }
     }
    },
    "ce7d8156-f128-4a0a-bce9-20832d408e1c": {
     "id": "ce7d8156-f128-4a0a-bce9-20832d408e1c",
     "prev": "c9a37bf1-f322-4fb3-8301-e328df831535",
     "regions": {
      "f8a708d6-1649-4e2d-99cf-21338e98dad9": {
       "attrs": {
        "height": 0.8,
        "width": 0.8,
        "x": 0.1,
        "y": 0.1
       },
       "content": {
        "cell": "0d2b3b2e-2db7-479a-a173-4cb3e6ac3004",
        "part": "whole"
       },
       "id": "f8a708d6-1649-4e2d-99cf-21338e98dad9"
      }
     }
    },
    "efe52eb5-9010-4e1a-844b-38cc52c05c42": {
     "id": "efe52eb5-9010-4e1a-844b-38cc52c05c42",
     "prev": "7a830326-65c1-40ee-96f1-a56e4a0afcc2",
     "regions": {
      "d3400654-3cc1-4dc1-bf67-aae6d35269ab": {
       "attrs": {
        "height": 0.8,
        "width": 0.8,
        "x": 0.1,
        "y": 0.1
       },
       "content": {
        "cell": "21e56225-e1d2-4114-8c1d-ba2a0c34d384",
        "part": "whole"
       },
       "id": "d3400654-3cc1-4dc1-bf67-aae6d35269ab"
      }
     }
    },
    "f641c92a-1842-42ea-9717-892505b246be": {
     "id": "f641c92a-1842-42ea-9717-892505b246be",
     "prev": null,
     "regions": {
      "674bdccc-56d9-4f66-bcac-38e09dcee437": {
       "attrs": {
        "height": 0.8,
        "width": 0.8,
        "x": 0.1,
        "y": 0.1
       },
       "content": {
        "cell": "704ded73-becc-44e4-bdbd-2cbe115b870d",
        "part": "whole"
       },
       "id": "674bdccc-56d9-4f66-bcac-38e09dcee437"
      }
     }
    },
    "fc3ab057-5713-443b-8c99-dab068cdd5b0": {
     "id": "fc3ab057-5713-443b-8c99-dab068cdd5b0",
     "prev": "98a2f5f1-9d80-44bc-a203-1bea7124e96a",
     "regions": {
      "35316e22-167c-4051-91c6-ee85a0b66818": {
       "attrs": {
        "height": 0.8,
        "width": 0.8,
        "x": 0.1,
        "y": 0.1
       },
       "content": {
        "cell": "2d8292b1-7c0c-4475-a5d2-c4dad6e40bb0",
        "part": "whole"
       },
       "id": "35316e22-167c-4051-91c6-ee85a0b66818"
      }
     }
    }
   },
   "themes": {}
  }
 },
 "nbformat": 4,
 "nbformat_minor": 0
}
