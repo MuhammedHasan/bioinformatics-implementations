{
 "cells": [
  {
   "cell_type": "markdown",
   "metadata": {},
   "source": [
    "# Bioinformatics Lecture - 2"
   ]
  },
  {
   "cell_type": "markdown",
   "metadata": {},
   "source": [
    "### Computational complexity"
   ]
  },
  {
   "cell_type": "markdown",
   "metadata": {},
   "source": [
    "#### Bounds\n",
    "\n",
    "$O(f(x))$: Upper bound\n",
    "\n",
    "$Ω(f(x))$: Lower bound\n",
    "\n",
    "$Θ(f(x))$: Tight bound"
   ]
  },
  {
   "cell_type": "markdown",
   "metadata": {},
   "source": [
    "#### Running Times\n",
    "\n",
    "Polynomial algorithms: $n, n^2, n^3, n^1000$\n",
    "\n",
    "Exponential algorithms: $n^n, n^3$"
   ]
  },
  {
   "cell_type": "markdown",
   "metadata": {},
   "source": [
    "### Fibonacci Example"
   ]
  },
  {
   "cell_type": "code",
   "execution_count": 1,
   "metadata": {
    "collapsed": true
   },
   "outputs": [],
   "source": [
    "def fib(n):\n",
    "    if n < 3:\n",
    "        return 1\n",
    "    else: \n",
    "        return fib(n-1) + fib(n-2)"
   ]
  },
  {
   "cell_type": "markdown",
   "metadata": {},
   "source": [
    "Running time : $O(2^n)$"
   ]
  },
  {
   "cell_type": "code",
   "execution_count": 2,
   "metadata": {
    "collapsed": true
   },
   "outputs": [],
   "source": [
    "def fib(n):\n",
    "    f = [1] * (n + 1)\n",
    "    for i in range(3,n+1):\n",
    "        f[i] = f[i-1] + f[i-2]\n",
    "    return f[n]"
   ]
  },
  {
   "cell_type": "markdown",
   "metadata": {},
   "source": [
    "Running time : $O(n)$"
   ]
  },
  {
   "cell_type": "markdown",
   "metadata": {},
   "source": [
    "Why is it not a good idea to write recursive\n",
    "algorithms when you can write non-recursive\n",
    "versions?\n",
    "\n"
   ]
  },
  {
   "cell_type": "markdown",
   "metadata": {},
   "source": [
    "Although  course notes do not advice recursion, it can be a good idea if a language supports tail recursion optimization.  But python does not support. "
   ]
  },
  {
   "cell_type": "code",
   "execution_count": 3,
   "metadata": {
    "collapsed": true
   },
   "outputs": [],
   "source": [
    "fib = lambda n,f=1, s=1: s if n < 2 else fib(n-1, s, f+s)"
   ]
  },
  {
   "cell_type": "markdown",
   "metadata": {},
   "source": [
    "Running time : $O(n)$\n",
    "\n",
    "Memory efficient "
   ]
  },
  {
   "cell_type": "markdown",
   "metadata": {},
   "source": [
    "### Algorithmic paradigms"
   ]
  },
  {
   "cell_type": "markdown",
   "metadata": {},
   "source": [
    "**Greedy:** build up a solution incrementally,\n",
    "myopically optimize some local criteria\n",
    "\n",
    "**Divide and conquer:** break up a problem into\n",
    "non-overlapping sub-problems, solve sub-\n",
    "problems independently, and then combine\n",
    "solutions to the sub-problems to form solution to\n",
    "the original problem.\n",
    "\n",
    "**Dynamic programming**: break up a problem into\n",
    "a series of overlapping sub-problems, and build\n",
    "up solutions to larger and larger sub-problems"
   ]
  },
  {
   "cell_type": "markdown",
   "metadata": {},
   "source": [
    "### Sample problem: Change"
   ]
  },
  {
   "cell_type": "markdown",
   "metadata": {},
   "source": [
    "**Input:** An amount of money M, in cents\n",
    "    \n",
    "**Output:** Smallest number of coins that adds\n",
    "up to M"
   ]
  },
  {
   "cell_type": "markdown",
   "metadata": {},
   "source": [
    "### Greedy Algorithm: most attractive"
   ]
  },
  {
   "cell_type": "code",
   "execution_count": 4,
   "metadata": {
    "collapsed": true
   },
   "outputs": [],
   "source": [
    "def greedy_change(M,c):\n",
    "    for k in range(len(c)):\n",
    "        ik = M / c[k]\n",
    "        yield ik\n",
    "        M -= c[k] * ik"
   ]
  },
  {
   "cell_type": "code",
   "execution_count": 5,
   "metadata": {
    "collapsed": false
   },
   "outputs": [
    {
     "data": {
      "text/plain": [
       "[1, 0, 0, 2]"
      ]
     },
     "execution_count": 5,
     "metadata": {},
     "output_type": "execute_result"
    }
   ],
   "source": [
    "list(greedy_change(7,[5,4,3,1]))"
   ]
  },
  {
   "cell_type": "markdown",
   "metadata": {},
   "source": [
    "But most optimal: [0, 1, 1, 0]"
   ]
  },
  {
   "cell_type": "markdown",
   "metadata": {},
   "source": [
    "#### Exhaustive search / brute force"
   ]
  },
  {
   "cell_type": "code",
   "execution_count": 6,
   "metadata": {
    "collapsed": false
   },
   "outputs": [],
   "source": [
    "import itertools\n",
    "def from_to_vector(v2=(2,1,1,3)):\n",
    "    return itertools.product(*[range((i) + 1) for i in v2])"
   ]
  },
  {
   "cell_type": "code",
   "execution_count": 7,
   "metadata": {
    "collapsed": true
   },
   "outputs": [],
   "source": [
    "def brute_force_change(M, c):\n",
    "    smallestNumberOfCoins = float(\"inf\")\n",
    "    bestChange = []\n",
    "    for ik in from_to_vector([M/i for i in c]):\n",
    "        valueOfCoins = sum(i * ci for ci, i in zip(c,ik))\n",
    "        if valueOfCoins == M:\n",
    "            if sum(ik) < smallestNumberOfCoins:\n",
    "                smallestNumberOfCoins = sum(ik)\n",
    "                bestChange = ik\n",
    "    return bestChange"
   ]
  },
  {
   "cell_type": "code",
   "execution_count": 8,
   "metadata": {
    "collapsed": false
   },
   "outputs": [
    {
     "data": {
      "text/plain": [
       "(3, 2, 0)"
      ]
     },
     "execution_count": 8,
     "metadata": {},
     "output_type": "execute_result"
    }
   ],
   "source": [
    "brute_force_change(23, [5,4,3])"
   ]
  },
  {
   "cell_type": "markdown",
   "metadata": {},
   "source": [
    "#### Divide and Conquer"
   ]
  },
  {
   "cell_type": "code",
   "execution_count": 9,
   "metadata": {
    "collapsed": true
   },
   "outputs": [],
   "source": [
    "def min_change(M, c):\n",
    "    if M == 0:\n",
    "        return 0\n",
    "    v = float(\"inf\")\n",
    "    for i in filter(lambda x: M >= x, c):\n",
    "        v = min(min_change(M-i, c) + 1, v)\n",
    "    return v"
   ]
  },
  {
   "cell_type": "code",
   "execution_count": 10,
   "metadata": {
    "collapsed": false
   },
   "outputs": [
    {
     "data": {
      "text/plain": [
       "3"
      ]
     },
     "execution_count": 10,
     "metadata": {},
     "output_type": "execute_result"
    }
   ],
   "source": [
    "min_change(13, [5,4,3,1])"
   ]
  },
  {
   "cell_type": "markdown",
   "metadata": {},
   "source": [
    "Running time : $M * d$"
   ]
  },
  {
   "cell_type": "code",
   "execution_count": 11,
   "metadata": {
    "collapsed": true
   },
   "outputs": [],
   "source": [
    "def min_change(M, c, min_c={}):\n",
    "    if M == 0 or min_c.get(M, 0):\n",
    "        return min_c.get(M, 0)\n",
    "    v = float(\"inf\")\n",
    "    for i in filter(lambda x: M >= x, c):\n",
    "        v = min(min_change(M-i, c, min_c) + 1,v)\n",
    "    min_c[M] = v\n",
    "    return v"
   ]
  },
  {
   "cell_type": "code",
   "execution_count": 12,
   "metadata": {
    "collapsed": false
   },
   "outputs": [
    {
     "data": {
      "text/plain": [
       "2"
      ]
     },
     "execution_count": 12,
     "metadata": {},
     "output_type": "execute_result"
    }
   ],
   "source": [
    "min_change(7, [4,3,2])"
   ]
  },
  {
   "cell_type": "markdown",
   "metadata": {},
   "source": [
    "#### Dynamic Programming"
   ]
  },
  {
   "cell_type": "code",
   "execution_count": 13,
   "metadata": {
    "collapsed": true
   },
   "outputs": [],
   "source": [
    "def min_change_dp(M, C):\n",
    "    min_coin = {0 : 0}\n",
    "    for m in range(1, M + 1):\n",
    "        min_coin[m] = float(\"inf\")\n",
    "        for c in filter(lambda x: m >= x, C):\n",
    "            if min_coin[m-c] + 1 < min_coin[m]:\n",
    "                min_coin[m] = min_coin[m-c] + 1\n",
    "    return min_coin[M]"
   ]
  },
  {
   "cell_type": "code",
   "execution_count": 14,
   "metadata": {
    "collapsed": false
   },
   "outputs": [
    {
     "data": {
      "text/plain": [
       "176"
      ]
     },
     "execution_count": 14,
     "metadata": {},
     "output_type": "execute_result"
    }
   ],
   "source": [
    "min_change_dp(703, [4,3,2])"
   ]
  }
 ],
 "metadata": {
  "kernelspec": {
   "display_name": "Python 2",
   "language": "python",
   "name": "python2"
  },
  "language_info": {
   "codemirror_mode": {
    "name": "ipython",
    "version": 2
   },
   "file_extension": ".py",
   "mimetype": "text/x-python",
   "name": "python",
   "nbconvert_exporter": "python",
   "pygments_lexer": "ipython2",
   "version": "2.7.12"
  }
 },
 "nbformat": 4,
 "nbformat_minor": 1
}
