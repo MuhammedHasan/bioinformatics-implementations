{
 "cells": [
  {
   "cell_type": "markdown",
   "metadata": {},
   "source": [
    "# Lecture 6 - Motif Finding  "
   ]
  },
  {
   "cell_type": "code",
   "execution_count": 1,
   "metadata": {
    "collapsed": true
   },
   "outputs": [],
   "source": [
    "from collections import Counter\n",
    "\n",
    "def score(patterns):\n",
    "    return sum(Counter(i).most_common(1)[0][1] for i in zip(*patterns))"
   ]
  },
  {
   "cell_type": "code",
   "execution_count": 2,
   "metadata": {
    "collapsed": true
   },
   "outputs": [],
   "source": [
    "patterns = [\n",
    "    ['a', 'G', 'g', 't', 'a', 'c', 'T', 't'],\n",
    "    ['C', 'c', 'A', 't', 'a', 'c', 'g', 't'],\n",
    "    ['a', 'c', 'g', 't', 'T', 'A', 'g', 't'],\n",
    "    ['a', 'c', 'g', 't', 'C', 'c', 'A', 't'],\n",
    "    ['C', 'c', 'g', 't', 'a', 'c', 'g', 'G'],\n",
    "]"
   ]
  },
  {
   "cell_type": "code",
   "execution_count": 3,
   "metadata": {
    "collapsed": false
   },
   "outputs": [],
   "source": [
    "patterns = [[j.lower() for j in i] for i in patterns]"
   ]
  },
  {
   "cell_type": "code",
   "execution_count": 4,
   "metadata": {
    "collapsed": false
   },
   "outputs": [
    {
     "data": {
      "text/plain": [
       "30"
      ]
     },
     "execution_count": 4,
     "metadata": {},
     "output_type": "execute_result"
    }
   ],
   "source": [
    "score(patterns)"
   ]
  },
  {
   "cell_type": "code",
   "execution_count": 5,
   "metadata": {
    "collapsed": true
   },
   "outputs": [],
   "source": [
    "import itertools\n",
    "def from_to_vector(v2):\n",
    "    return itertools.product(*[range((i) + 1) for i in v2])"
   ]
  },
  {
   "cell_type": "code",
   "execution_count": 6,
   "metadata": {
    "collapsed": false
   },
   "outputs": [],
   "source": [
    "pattern = 'acgtacgt'\n",
    "\n",
    "DNA = [\n",
    "    'cctgatagacgctatctggctatccacgtacAtaggtcctctgtgcgaatctatgcgtttccaaccat',\n",
    "    'agtactggtgtacatttgatacgtacgtacaccggcaacctgaaacaaacgctcagaaccagaagtgc',\n",
    "    'aaaAgtCcgtgcaccctctttcttcgtggctctggccaacgagggctgatgtataagacgaaaatttt',\n",
    "    'agcctccgatgtaagtcatagctgtaactattacctgccacccctattacatcttacgtacgtataca',\n",
    "    'ctgttatacaacgcgtcatggcggggtatgcgttttggtcgtcgtacgctcgatcgttaacgtaGgtc'\n",
    "]\n",
    "DNA = [d.lower() for d in DNA]"
   ]
  },
  {
   "cell_type": "code",
   "execution_count": 7,
   "metadata": {
    "collapsed": false
   },
   "outputs": [],
   "source": [
    "def pattern_positions(s_vec, DNA, l):\n",
    "    return [DNA[k][s:s+l] for k, s in enumerate(s_vec)]"
   ]
  },
  {
   "cell_type": "markdown",
   "metadata": {},
   "source": [
    "### BruteForceMotifSearch"
   ]
  },
  {
   "cell_type": "code",
   "execution_count": 14,
   "metadata": {
    "collapsed": true
   },
   "outputs": [],
   "source": [
    "from IPython.display import clear_output\n",
    "\n",
    "def brute_force_motif_search(DNA, t, n, l):\n",
    "    bestScore = 0\n",
    "    bestMotif = ()\n",
    "    for s in from_to_vector((n-l,) * t):\n",
    "        scr = score(pattern_positions(s, DNA, l))\n",
    "        if scr > bestScore:\n",
    "            bestScore = scr\n",
    "            bestMotif = s\n",
    "            \n",
    "            clear_output()\n",
    "            print s\n",
    "            print pattern_positions(s, DNA, l)\n",
    "            \n",
    "    return bestMotif"
   ]
  },
  {
   "cell_type": "code",
   "execution_count": null,
   "metadata": {
    "collapsed": false
   },
   "outputs": [],
   "source": [
    "brute_force_motif_search(DNA,5,len(DNA[0]),len(pattern))"
   ]
  },
  {
   "cell_type": "markdown",
   "metadata": {},
   "source": [
    "### The Median String Problem"
   ]
  },
  {
   "cell_type": "code",
   "execution_count": 8,
   "metadata": {
    "collapsed": true
   },
   "outputs": [],
   "source": [
    "def hamming_distance(v, w):\n",
    "    return sum(i != j for i, j in zip(v,w))"
   ]
  },
  {
   "cell_type": "code",
   "execution_count": 9,
   "metadata": {
    "collapsed": false
   },
   "outputs": [],
   "source": [
    "def total_distance(lmer, DNA):\n",
    "    hds = lambda d: [hamming_distance(lmer, d[i:i+len(lmer)]) for i in range(len(d)-len(lmer))]\n",
    "    return sum(min(hds(d)) for d in DNA)"
   ]
  },
  {
   "cell_type": "code",
   "execution_count": 10,
   "metadata": {
    "collapsed": false
   },
   "outputs": [
    {
     "name": "stdout",
     "output_type": "stream",
     "text": [
      "number of mutation = 4\n"
     ]
    }
   ],
   "source": [
    "print 'number of mutation =', total_distance(pattern, DNA)"
   ]
  },
  {
   "cell_type": "code",
   "execution_count": 11,
   "metadata": {
    "collapsed": false
   },
   "outputs": [],
   "source": [
    "def number_to_nuc(numbers):\n",
    "    nucs = []\n",
    "    for i in numbers:\n",
    "        if i == 0:\n",
    "            nucs.append('a') \n",
    "        elif i == 1:\n",
    "            nucs.append('t') \n",
    "        elif i == 2:\n",
    "            nucs.append('g') \n",
    "        elif i == 3:\n",
    "            nucs.append('c') \n",
    "        else:\n",
    "            raise ValueError(\"numbers should be interger\")\n",
    "    return ''.join(nucs)"
   ]
  },
  {
   "cell_type": "code",
   "execution_count": 12,
   "metadata": {
    "collapsed": true
   },
   "outputs": [],
   "source": [
    "from IPython.display import clear_output\n",
    "\n",
    "def median_string_search(DNA, t, n, l):\n",
    "    best_word = ''\n",
    "    best_dist = float('inf')\n",
    "    possible_nucs = [number_to_nuc(i) for i in from_to_vector((3,) * l)] \n",
    "    for lmer in possible_nucs:\n",
    "        total_dist_lmer = total_distance(lmer,DNA)\n",
    "        if total_dist_lmer < best_dist:\n",
    "            best_dist = total_dist_lmer\n",
    "            best_word = lmer\n",
    "            \n",
    "            clear_output()\n",
    "            print lmer\n",
    "            \n",
    "    return best_word"
   ]
  },
  {
   "cell_type": "code",
   "execution_count": 13,
   "metadata": {
    "collapsed": false
   },
   "outputs": [
    {
     "name": "stdout",
     "output_type": "stream",
     "text": [
      "acgtacgt\n"
     ]
    },
    {
     "data": {
      "text/plain": [
       "'acgtacgt'"
      ]
     },
     "execution_count": 13,
     "metadata": {},
     "output_type": "execute_result"
    }
   ],
   "source": [
    "median_string_search(DNA,5,len(DNA[0]),len(pattern))"
   ]
  },
  {
   "cell_type": "code",
   "execution_count": null,
   "metadata": {
    "collapsed": true
   },
   "outputs": [],
   "source": []
  }
 ],
 "metadata": {
  "kernelspec": {
   "display_name": "Python 2",
   "language": "python",
   "name": "python2"
  },
  "language_info": {
   "codemirror_mode": {
    "name": "ipython",
    "version": 2
   },
   "file_extension": ".py",
   "mimetype": "text/x-python",
   "name": "python",
   "nbconvert_exporter": "python",
   "pygments_lexer": "ipython2",
   "version": "2.7.12"
  }
 },
 "nbformat": 4,
 "nbformat_minor": 1
}
